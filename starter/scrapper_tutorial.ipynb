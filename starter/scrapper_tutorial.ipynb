{
 "cells": [
  {
   "attachments": {},
   "cell_type": "markdown",
   "metadata": {},
   "source": [
    "# https://www.scraperapi.com/blog/headers-and-cookies-for-web-scraping/\n",
    "# https://www.scraperapi.com/blog/web-scraping-best-practices/\n",
    "# https://www.scraperapi.com/blog/10-tips-for-web-scraping/\n",
    "\n",
    "Anti-scraping Techniques\n",
    "- number of requests: too many requests within a particular time frame or there are too many parallel requests from the same IP\n",
    "- number of repetitions and find request patterns (X number of requests at every Y seconds)\n",
    "- Honeypots are link traps webmasters can add to the HTML file that are hidden from humans\n",
    "- Redirecting the request to a page with a CAPTCHA\n",
    "- javascript checks\n",
    "- anti-bot mechanisms can spot patterns in the number of clicks, clicks’ location, the interval between clicks, and other metrics\n",
    "\n",
    "Todos\n",
    "- Set Your Timeout to at Least 60 seconds\n",
    "- Don’t Set Custom Headers Unless You 100% Need To\n",
    "- Always Send Your Requests to the HTTPS Version\n",
    "- Avoid Using Sessions Unless Completely Necessary\n",
    "- Manage Your Concurrency Properly\n",
    "- Verify if You Need Geotargeting Before Running Your Scraper\n",
    "- If you want to be able to interact with the page (click on a button, scroll, etc.) then you will need to use your own Selenium, Puppeteer, or Nightmare headless browser\n",
    "\n",
    "Tips\n",
    "- Set Random Intervals In Between Your Requests\n",
    "- Set a Referrer\n",
    "- Use a Headless Browser\n",
    "- Avoid Honeypot Traps\n",
    "- Detect Website Changes"
   ]
  },
  {
   "cell_type": "code",
   "execution_count": 1,
   "metadata": {},
   "outputs": [
    {
     "name": "stdout",
     "output_type": "stream",
     "text": [
      "{\n",
      "  \"headers\": {\n",
      "    \"Accept\": \"*/*\", \n",
      "    \"Accept-Encoding\": \"gzip, deflate\", \n",
      "    \"Host\": \"httpbin.org\", \n",
      "    \"User-Agent\": \"python-requests/2.31.0\", \n",
      "    \"X-Amzn-Trace-Id\": \"Root=1-64a56f06-4bce88994e6eeaa00698b3e6\"\n",
      "  }\n",
      "}\n",
      "\n"
     ]
    }
   ],
   "source": [
    "import requests\n",
    "url = 'https://httpbin.org/headers'\n",
    " \n",
    "response = requests.get(url)\n",
    " \n",
    "print(response.text)"
   ]
  },
  {
   "cell_type": "code",
   "execution_count": 2,
   "metadata": {},
   "outputs": [
    {
     "name": "stdout",
     "output_type": "stream",
     "text": [
      "{\n",
      "  \"headers\": {\n",
      "    \"Accept\": \"*/*\", \n",
      "    \"Accept-Encoding\": \"gzip, deflate\", \n",
      "    \"Accept-Language\": \"en-US,en;q=0.9,it;q=0.8,es;q=0.7\", \n",
      "    \"Cookie\": \"DSID=AAO-7r4OSkS76zbHUkiOpnI0kk-X19BLDFF53G8gbnd21VZV2iehu-w_2v14cxvRvrkd_NjIdBWX7wUiQ66f-D8kOkTKD1BhLVlqrFAaqDP3LodRK2I0NfrObmhV9HsedGE7-mQeJpwJifSxdchqf524IMh9piBflGqP0Lg0_xjGmLKEQ0F4Na6THgC06VhtUG5infEdqMQ9otlJENe3PmOQTC_UeTH5DnENYwWC8KXs-M4fWmDADmG414V0_X0TfjrYu01nDH2Dcf3TIOFbRDb993g8nOCswLMi92LwjoqhYnFdf1jzgK0\", \n",
      "    \"Host\": \"httpbin.org\", \n",
      "    \"Referer\": \"https://www.google.com/\", \n",
      "    \"User-Agent\": \"Mozilla/5.0 (Macintosh; Intel Mac OS X 10_15_7) AppleWebKit/537.36 (KHTML, like Gecko) Chrome/101.0.4951.64 Safari/537.36 Edg/101.0.1210.53\", \n",
      "    \"X-Amzn-Trace-Id\": \"Root=1-64a56f65-17ead7881dd31c011d3c2dac\"\n",
      "  }\n",
      "}\n",
      "\n"
     ]
    }
   ],
   "source": [
    "url = 'https://httpbin.org/headers'\n",
    " \n",
    "headers = {\n",
    "    'accept': '*/*',\n",
    "    'User-Agent': 'Mozilla/5.0 (Macintosh; Intel Mac OS X 10_15_7) AppleWebKit/537.36 (KHTML, like Gecko) Chrome/101.0.4951.64 Safari/537.36 Edg/101.0.1210.53',\n",
    "    'Accept-Language': 'en-US,en;q=0.9,it;q=0.8,es;q=0.7',\n",
    "    'referer': 'https://www.google.com/',\n",
    "    'cookie': 'DSID=AAO-7r4OSkS76zbHUkiOpnI0kk-X19BLDFF53G8gbnd21VZV2iehu-w_2v14cxvRvrkd_NjIdBWX7wUiQ66f-D8kOkTKD1BhLVlqrFAaqDP3LodRK2I0NfrObmhV9HsedGE7-mQeJpwJifSxdchqf524IMh9piBflGqP0Lg0_xjGmLKEQ0F4Na6THgC06VhtUG5infEdqMQ9otlJENe3PmOQTC_UeTH5DnENYwWC8KXs-M4fWmDADmG414V0_X0TfjrYu01nDH2Dcf3TIOFbRDb993g8nOCswLMi92LwjoqhYnFdf1jzgK0'\n",
    "}\n",
    " \n",
    "response = requests.get(url, headers=headers)\n",
    " \n",
    "print(response.text)"
   ]
  },
  {
   "cell_type": "code",
   "execution_count": 4,
   "metadata": {},
   "outputs": [
    {
     "name": "stdout",
     "output_type": "stream",
     "text": [
      "Unauthorized request, please make sure your API key is valid.\n"
     ]
    }
   ],
   "source": [
    "headers = {\n",
    "'accept': '*/*',\n",
    "'User-Agent': 'Mozilla/5.0 (Macintosh; Intel Mac OS X 10_15_7) AppleWebKit/537.36 (KHTML, like Gecko) Chrome/101.0.4951.64 Safari/537.36 Edg/101.0.1210.53',\n",
    "'Accept-Language': 'en-US,en;q=0.9,it;q=0.8,es;q=0.7',\n",
    "'referer': 'https://www.google.com/',\n",
    "'cookie': 'DSID=AAO-7r4OSkS76zbHUkiOpnI0kk-X19BLDFF53G8gbnd21VZV2iehu-w_2v14cxvRvrkd_NjIdBWX7wUiQ66f-D8kOkTKD1BhLVlqrFAaqDP3LodRK2I0NfrObmhV9HsedGE7-mQeJpwJifSxdchqf524IMh9piBflGqP0Lg0_xjGmLKEQ0F4Na6THgC06VhtUG5infEdqMQ9otlJENe3PmOQTC_UeTH5DnENYwWC8KXs-M4fWmDADmG414V0_X0TfjrYu01nDH2Dcf3TIOFbRDb993g8nOCswLMi92LwjoqhYnFdf1jzgK0'\n",
    "}\n",
    "payload = {\n",
    "'api_key': '51e43be283e4db2a5afb62660xxxxxxx',\n",
    "'url': 'https://httpbin.org/headers',\n",
    "'keep_headers': 'true',\n",
    "}\n",
    "response = requests.get('http://api.scraperapi.com', params=payload, headers=headers)\n",
    "print(response.text)\n",
    "\n",
    "# http://api.scraperapi.com/?api_key=51e43be283e4db2a5afb62660xxxxxxx&url=http://httpbin.org/headers&keep_headers=true"
   ]
  }
 ],
 "metadata": {
  "kernelspec": {
   "display_name": "env",
   "language": "python",
   "name": "python3"
  },
  "language_info": {
   "codemirror_mode": {
    "name": "ipython",
    "version": 3
   },
   "file_extension": ".py",
   "mimetype": "text/x-python",
   "name": "python",
   "nbconvert_exporter": "python",
   "pygments_lexer": "ipython3",
   "version": "3.11.0"
  },
  "orig_nbformat": 4
 },
 "nbformat": 4,
 "nbformat_minor": 2
}
